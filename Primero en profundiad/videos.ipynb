{
 "cells": [
  {
   "cell_type": "code",
   "execution_count": 1,
   "metadata": {
    "collapsed": true
   },
   "outputs": [
    {
     "ename": "SyntaxError",
     "evalue": "invalid syntax (2369958740.py, line 22)",
     "output_type": "error",
     "traceback": [
      "\u001B[1;36m  Cell \u001B[1;32mIn[1], line 22\u001B[1;36m\u001B[0m\n\u001B[1;33m    retur msg.format(self.estado_inicial, self.estados_objetivos)\u001B[0m\n\u001B[1;37m          ^\u001B[0m\n\u001B[1;31mSyntaxError\u001B[0m\u001B[1;31m:\u001B[0m invalid syntax\n"
     ]
    }
   ],
   "source": [
    "class Accion:\n",
    "    def __init__(self, nombre):\n",
    "        self.nombre = nombre\n",
    "    def __str__(self):\n",
    "        return self.nombre\n",
    "\n",
    "# %% Estado\n",
    "class Estado:\n",
    "    def __init__(self, nombre, acciones):\n",
    "        self.nombre = nombre\n",
    "        self.acciones =acciones\n",
    "    def __str__(self):\n",
    "        return self.nombre\n",
    "\n",
    "class Problema:\n",
    "    def __init__(self, estado_inicial, estados_objetivos, acciones):\n",
    "        self.estado_inicial = estado_inicial\n",
    "        self.estados_objetivos = estados_objetivos\n",
    "        self.acciones = acciones\n",
    "    def __str__(self):\n",
    "        msg = \"Estdo inicial: {0} -> Objetivos: {1}\"\n",
    "        retur msg.format(self.estado_inicial, self.estados_objetivos)\n",
    "\n",
    "    def es_objetivo(self, estado):\n",
    "        return estado in self.estados_objetivos\n",
    "\n",
    "    def resultados(self, estado, accion):\n",
    "        if estado.nombre not in self.acciones.keys():\n",
    "            return None\n",
    "        acciones_estado = self.acciones[estado.nombre]\n",
    "        if accion.nombre not in acciones_estado.keys():\n",
    "            return None\n",
    "        return acciones_estado[accion.nombre]\n",
    "\n",
    "if __name__ == '__main__':\n",
    "    accN = Accion(\"norte\")\n",
    "    accS = Accion(\"sur\")\n",
    "    accE = Accion('este')\n",
    "    accO = Accion('oeste')\n",
    "\n",
    "    coruna = Estado('A coruna')\n"
   ]
  },
  {
   "cell_type": "code",
   "execution_count": 2,
   "outputs": [
    {
     "name": "stdout",
     "output_type": "stream",
     "text": [
      "Paso 0: Granjero: izquierda, Cabra: izquierda, Lobo: izquierda, Col: izquierda\n",
      "Paso 1: Granjero: derecha, Cabra: derecha, Lobo: izquierda, Col: izquierda\n",
      "Paso 2: Granjero: izquierda, Cabra: derecha, Lobo: izquierda, Col: izquierda\n",
      "Paso 3: Granjero: derecha, Cabra: derecha, Lobo: derecha, Col: izquierda\n",
      "Paso 4: Granjero: izquierda, Cabra: izquierda, Lobo: derecha, Col: izquierda\n",
      "Paso 5: Granjero: derecha, Cabra: izquierda, Lobo: derecha, Col: derecha\n",
      "Paso 6: Granjero: izquierda, Cabra: izquierda, Lobo: derecha, Col: derecha\n",
      "Paso 7: Granjero: derecha, Cabra: derecha, Lobo: derecha, Col: derecha\n"
     ]
    }
   ],
   "source": [
    "\n",
    "from collections import deque\n",
    "\n",
    "# Estado inicial\n",
    "estado_inicial = ('izquierda', 'izquierda', 'izquierda', 'izquierda')\n",
    "\n",
    "# Estado final\n",
    "estado_final = ('derecha', 'derecha', 'derecha', 'derecha')\n",
    "\n",
    "# Función para verificar si un estado es válido\n",
    "def es_valido(estado):\n",
    "    # Si el granjero está en la misma orilla que la cabra\n",
    "    if estado[0] == estado[1]:\n",
    "        return True\n",
    "    # Si el lobo y la cabra están en la misma orilla y el granjero no está con ellos\n",
    "    elif estado[1] == estado[2] and estado[0] != estado[1]:\n",
    "        return False\n",
    "    # Si la cabra y la col están en la misma orilla y el granjero no está con ellos\n",
    "    elif estado[1] == estado[3] and estado[0] != estado[1]:\n",
    "        return False\n",
    "    else:\n",
    "        return True\n",
    "\n",
    "# Función para generar los estados sucesores de un estado dado\n",
    "def sucesores(estado):\n",
    "    sucesores = []\n",
    "    # Si el granjero está en la orilla izquierda\n",
    "    if estado[0] == 'izquierda':\n",
    "        # El granjero puede cruzar solo\n",
    "        nuevo_estado = ('derecha', estado[1], estado[2], estado[3])\n",
    "        if es_valido(nuevo_estado):\n",
    "            sucesores.append(nuevo_estado)\n",
    "        # El granjero puede cruzar con la cabra\n",
    "        nuevo_estado = ('derecha', 'derecha', estado[2], estado[3])\n",
    "        if es_valido(nuevo_estado):\n",
    "            sucesores.append(nuevo_estado)\n",
    "        # El granjero puede cruzar con el lobo\n",
    "        nuevo_estado = ('derecha', estado[1], 'derecha', estado[3])\n",
    "        if es_valido(nuevo_estado):\n",
    "            sucesores.append(nuevo_estado)\n",
    "        # El granjero puede cruzar con la col\n",
    "        nuevo_estado = ('derecha', estado[1], estado[2], 'derecha')\n",
    "        if es_valido(nuevo_estado):\n",
    "            sucesores.append(nuevo_estado)\n",
    "    # Si el granjero está en la orilla derecha\n",
    "    else:\n",
    "        # El granjero puede cruzar solo\n",
    "        nuevo_estado = ('izquierda', estado[1], estado[2], estado[3])\n",
    "        if es_valido(nuevo_estado):\n",
    "            sucesores.append(nuevo_estado)\n",
    "        # El granjero puede cruzar con la cabra\n",
    "        nuevo_estado = ('izquierda', 'izquierda', estado[2], estado[3])\n",
    "        if es_valido(nuevo_estado):\n",
    "            sucesores.append(nuevo_estado)\n",
    "        # El granjero puede cruzar con el lobo\n",
    "        nuevo_estado = ('izquierda', estado[1], 'izquierda', estado[3])\n",
    "        if es_valido(nuevo_estado):\n",
    "            sucesores.append(nuevo_estado)\n",
    "        # El granjero puede cruzar con la col\n",
    "        nuevo_estado = ('izquierda', estado[1], estado[2], 'izquierda')\n",
    "        if es_valido(nuevo_estado):\n",
    "            sucesores.append(nuevo_estado)\n",
    "    return sucesores\n",
    "\n",
    "# Algoritmo BFS para encontrar la solución al problema del granjero\n",
    "def bfs():\n",
    "    visitados = set()\n",
    "    cola = deque([(estado_inicial, [])])\n",
    "    while cola:\n",
    "        (estado, camino) = cola.popleft()\n",
    "        if estado == estado_final:\n",
    "            return camino + [estado]\n",
    "        for sucesor in sucesores(estado):\n",
    "            if sucesor not in visitados:\n",
    "                visitados.add(sucesor)\n",
    "                cola.append((sucesor, camino + [estado]))\n",
    "    return None\n",
    "\n",
    "# Imprimir la solución al problema del granjero\n",
    "solucion = bfs()\n",
    "if solucion is None:\n",
    "    print('No se encontró una solución al problema del granjero.')\n",
    "else:\n",
    "    for i, paso in enumerate(solucion):\n",
    "        print(f'Paso {i}: Granjero: {paso[0]}, Cabra: {paso[1]}, Lobo: {paso[2]}, Col: {paso[3]}')\n"
   ],
   "metadata": {
    "collapsed": false
   }
  },
  {
   "cell_type": "code",
   "execution_count": null,
   "outputs": [],
   "source": [],
   "metadata": {
    "collapsed": false
   }
  }
 ],
 "metadata": {
  "kernelspec": {
   "display_name": "Python 3",
   "language": "python",
   "name": "python3"
  },
  "language_info": {
   "codemirror_mode": {
    "name": "ipython",
    "version": 2
   },
   "file_extension": ".py",
   "mimetype": "text/x-python",
   "name": "python",
   "nbconvert_exporter": "python",
   "pygments_lexer": "ipython2",
   "version": "2.7.6"
  }
 },
 "nbformat": 4,
 "nbformat_minor": 0
}
